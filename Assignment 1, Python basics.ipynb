{
 "cells": [
  {
   "cell_type": "markdown",
   "id": "83ab5e9b",
   "metadata": {},
   "source": [
    "### Question 1\n",
    "\n",
    "##### In the below elements which of them are values or an expression? eg:- vlaues can be integer or  string and expressions wil be mathematical operators.\n",
    "` *`\n",
    "`\"hello\"`\n",
    "`-87.8`\n",
    "`-`\n",
    "`/`\n",
    "`+`\n",
    "`6`"
   ]
  },
  {
   "cell_type": "markdown",
   "id": "c70fb8ea",
   "metadata": {},
   "source": [
    "### Answer:- \n",
    "    Values are 'hello', -87.8 and 6\n",
    "    And Expressions are *,-,/ and +"
   ]
  },
  {
   "cell_type": "markdown",
   "id": "a7b78a1a",
   "metadata": {},
   "source": [
    "### Question2\n",
    "\n",
    "#### What is the difference between string and variable?"
   ]
  },
  {
   "cell_type": "markdown",
   "id": "75c7617f",
   "metadata": {},
   "source": [
    "### Answer:- \n",
    "\n",
    "`String` :- String is a datatype which is written in single or double quotes. This data is used for representing characters. eg:- **'Abhi', '123', \"ineuron\"**.\n",
    "\n",
    "`Variable` :- Variable is just a containers where we store data values. In other language we have to declare variables first but in python a variable is created when we assign a value to it."
   ]
  },
  {
   "cell_type": "markdown",
   "id": "5240f878",
   "metadata": {},
   "source": [
    "### Question3\n",
    "\n",
    "#### Describe three different data types."
   ]
  },
  {
   "cell_type": "markdown",
   "id": "ce970718",
   "metadata": {},
   "source": [
    "### Answer:- \n",
    "*Three different datatypes are* 1. int\n",
    "                                2. floats\n",
    "                                3. string\n",
    "\n",
    "`1` int: - Integers is datatype in python which represents the number, it can show both positive or negative numbers.\n",
    "\n",
    "`2` floats: - floats is datatype in python which represents the decimal values whether it is positive value or negative value.\n",
    "\n",
    "`3` string: - String represents the characters or words whatever we write in single or double quotes it is string datatype."
   ]
  },
  {
   "cell_type": "markdown",
   "id": "53f00372",
   "metadata": {},
   "source": [
    "### Question4\n",
    "\n",
    "#### What is an expression made up of? what do all expressions do?"
   ]
  },
  {
   "cell_type": "markdown",
   "id": "da9be905",
   "metadata": {},
   "source": [
    "### Answer:- \n",
    "An expression is made up of values, variables and operators.An expression is a combination of operators that gives some other values. There are different types of expressions like Arithmetic expressions, Relational expressions, floating expressions and logical expressions etc. An expressions is when we do operations between two or more operands with operators.\n",
    "\n",
    "**Arithmetic operators**:- Addition `+`, Subtraction `-`, Division `/`, Multiplication `*`, Quotient `//`, Reminder `%`\n",
    "\n",
    "**Assignment operators**:- `=`, `+=`,`-=`,`/=`,`*=`, `%=`\n",
    "\n",
    "**Comparison operators**:- Equal `==`, Not equal `!=`, Greater than `>`, Less than `<`, Greater than or equal to `>=`, Less than or equal to `<=`\n",
    "\n",
    "**Logical operators**:- `and` It returns true when both statements are true, `or` Returns true if on the statement is true, `not` It reverse the output, if output is true returns false or output is false it returns true"
   ]
  },
  {
   "cell_type": "markdown",
   "id": "7694980b",
   "metadata": {},
   "source": [
    "### Question5\n",
    "\n",
    "This assignment statemets, like spam=10. What is the difference between an expression and a statement?\n"
   ]
  },
  {
   "cell_type": "markdown",
   "id": "1bad5d39",
   "metadata": {},
   "source": [
    "### Answer:- Difference\n",
    "\n",
    "**Expression** :- Expression is always produce a result or returns the results like 10+2 it evaluates a values always. Expression always returns a value.\n",
    "\n",
    "**Statement** :- Statement does something like assigning a value or creating a variable like here it says spam=10 that means it is creating a variable name spam which contain value of 10. Statement will never return a value."
   ]
  },
  {
   "cell_type": "markdown",
   "id": "dd8031f7",
   "metadata": {},
   "source": [
    "### Question6\n",
    "\n",
    "After running the following code, what does the variable bacon contain?\n",
    "bacon = 22\n",
    "bacon + 1\n",
    "\n",
    "### Answer:- bacon contains 23\n",
    "\n",
    "`here,` first we assign a integer value in a variable name bacon after that we are adding the value of 1 so the output will be 23"
   ]
  },
  {
   "cell_type": "code",
   "execution_count": 6,
   "id": "ed5aeeb5",
   "metadata": {},
   "outputs": [
    {
     "data": {
      "text/plain": [
       "23"
      ]
     },
     "execution_count": 6,
     "metadata": {},
     "output_type": "execute_result"
    }
   ],
   "source": [
    "bacon=22\n",
    "bacon+1"
   ]
  },
  {
   "cell_type": "markdown",
   "id": "4c99a454",
   "metadata": {},
   "source": [
    "### Question7\n",
    "\n",
    "What should the values of the following two terms be?\n",
    "1. 'spam'+'spamspam'\n",
    "2. 'spam'*3\n",
    "\n",
    "\n",
    "### Answer:- \n",
    "In first term it concat the strings and in second term it gives three time spam both terms have same output"
   ]
  },
  {
   "cell_type": "code",
   "execution_count": 7,
   "id": "ad43d918",
   "metadata": {},
   "outputs": [
    {
     "data": {
      "text/plain": [
       "'spamspamspam'"
      ]
     },
     "execution_count": 7,
     "metadata": {},
     "output_type": "execute_result"
    }
   ],
   "source": [
    "'spam'+'spamspam'"
   ]
  },
  {
   "cell_type": "code",
   "execution_count": 8,
   "id": "03e8fbb4",
   "metadata": {},
   "outputs": [
    {
     "data": {
      "text/plain": [
       "'spamspamspam'"
      ]
     },
     "execution_count": 8,
     "metadata": {},
     "output_type": "execute_result"
    }
   ],
   "source": [
    "'spam'*3"
   ]
  },
  {
   "cell_type": "markdown",
   "id": "68e5df7f",
   "metadata": {},
   "source": [
    "### Question8\n",
    "\n",
    "Why is eggs a valid variable name while 100 is invaild?\n",
    "\n",
    "### Answer:- \n",
    "\n",
    "There are some restrictions in variable when we a give a name. eggs is valid name because it started with a letter and 100 is invaild because it started with number. That is somethings we should always remember when we are giving a name to a variable. A variable could only contain alpha-numric values and a variable will always start with letter or with underscore. eg:- a100,_100, e100 these names are valid"
   ]
  },
  {
   "cell_type": "markdown",
   "id": "ec3ccca9",
   "metadata": {},
   "source": [
    "### Question9\n",
    "\n",
    "What three functions can be used to get the integer, floating-point number, or string version of a value?\n",
    "\n",
    "### Answer:- \n",
    "\n",
    "Three functions which is used to get the integer, floating-point number, or string is int(), float() and str()"
   ]
  },
  {
   "cell_type": "markdown",
   "id": "6e5085b7",
   "metadata": {},
   "source": [
    "### Question10\n",
    "\n",
    "Why does this expression cause an error? How can you fix it?\n",
    "\n",
    "**'I have eaten' +99+ 'burritos.'**\n",
    "\n",
    "### Answer:- \n",
    "\n",
    "This expression cause an error because we can not concatenate a string value with interger. There are different ways to fix this error like we can do typecasting here or instead of using + we can use here , this will also work"
   ]
  },
  {
   "cell_type": "code",
   "execution_count": 12,
   "id": "1d7ccbbd",
   "metadata": {},
   "outputs": [
    {
     "name": "stdout",
     "output_type": "stream",
     "text": [
      "I have eaten99burritos.\n"
     ]
    }
   ],
   "source": [
    "print('I have eaten' +str(99)+ 'burritos.')"
   ]
  },
  {
   "cell_type": "code",
   "execution_count": 11,
   "id": "a55c741b",
   "metadata": {},
   "outputs": [
    {
     "name": "stdout",
     "output_type": "stream",
     "text": [
      "I have eaten 99 burritos.\n"
     ]
    }
   ],
   "source": [
    "print('I have eaten' ,99, 'burritos.')"
   ]
  },
  {
   "cell_type": "code",
   "execution_count": null,
   "id": "09a9798d",
   "metadata": {},
   "outputs": [],
   "source": []
  }
 ],
 "metadata": {
  "kernelspec": {
   "display_name": "Python 3 (ipykernel)",
   "language": "python",
   "name": "python3"
  },
  "language_info": {
   "codemirror_mode": {
    "name": "ipython",
    "version": 3
   },
   "file_extension": ".py",
   "mimetype": "text/x-python",
   "name": "python",
   "nbconvert_exporter": "python",
   "pygments_lexer": "ipython3",
   "version": "3.8.11"
  }
 },
 "nbformat": 4,
 "nbformat_minor": 5
}
